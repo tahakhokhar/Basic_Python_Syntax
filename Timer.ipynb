{
  "nbformat": 4,
  "nbformat_minor": 0,
  "metadata": {
    "colab": {
      "provenance": [],
      "authorship_tag": "ABX9TyMAGeCaKMnsLTJAwHVQFxec",
      "include_colab_link": true
    },
    "kernelspec": {
      "name": "python3",
      "display_name": "Python 3"
    },
    "language_info": {
      "name": "python"
    }
  },
  "cells": [
    {
      "cell_type": "markdown",
      "metadata": {
        "id": "view-in-github",
        "colab_type": "text"
      },
      "source": [
        "<a href=\"https://colab.research.google.com/github/tahakhokhar/Basic_Python_Syntax/blob/main/Timer.ipynb\" target=\"_parent\"><img src=\"https://colab.research.google.com/assets/colab-badge.svg\" alt=\"Open In Colab\"/></a>"
      ]
    },
    {
      "cell_type": "code",
      "execution_count": 15,
      "metadata": {
        "colab": {
          "base_uri": "https://localhost:8080/"
        },
        "id": "rWA8Yzu7YvFE",
        "outputId": "0288cde9-db81-4fe2-ef40-a263f34c80e6"
      },
      "outputs": [
        {
          "output_type": "stream",
          "name": "stdout",
          "text": [
            "5\n",
            "4\n",
            "3\n",
            "2\n",
            "1\n",
            "time's up!\n"
          ]
        }
      ],
      "source": [
        "import time\n",
        "Second=5\n",
        "while Second>0:\n",
        "  print(Second)\n",
        "  time.sleep(2)\n",
        "  Second-=1\n",
        "print(\"time's up!\")"
      ]
    },
    {
      "cell_type": "code",
      "source": [],
      "metadata": {
        "id": "FcxfIq1reXze"
      },
      "execution_count": null,
      "outputs": []
    },
    {
      "cell_type": "code",
      "source": [],
      "metadata": {
        "id": "x-y8RutxeYLk"
      },
      "execution_count": null,
      "outputs": []
    }
  ]
}